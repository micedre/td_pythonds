{
 "cells": [
  {
   "cell_type": "code",
   "execution_count": null,
   "id": "fda291e7",
   "metadata": {},
   "outputs": [
    {
     "data": {
      "text/plain": [
       "(array([0.22733602, 0.31675834, 0.79736546, 0.67625467, 0.39110955,\n",
       "        0.33281393, 0.59830875, 0.18673419, 0.67275604, 0.94180287]),\n",
       " array([0.24824571, 0.94888115, 0.66723745, 0.09589794, 0.44183967,\n",
       "        0.88647992, 0.6974535 , 0.32647286, 0.73392816, 0.22013496]))"
      ]
     },
     "execution_count": 4,
     "metadata": {},
     "output_type": "execute_result"
    }
   ],
   "source": [
    "import numpy as np\n",
    "\n",
    "rng = np.random.default_rng(seed=12345)\n",
    "X1 = rng.uniform(0,1,10)\n"
   ]
  },
  {
   "cell_type": "code",
   "execution_count": 22,
   "id": "22651db6",
   "metadata": {},
   "outputs": [
    {
     "data": {
      "text/plain": [
       "array([6])"
      ]
     },
     "execution_count": 22,
     "metadata": {},
     "output_type": "execute_result"
    }
   ],
   "source": [
    "x = np.arange(5,10)\n",
    "x[x==6]"
   ]
  },
  {
   "cell_type": "code",
   "execution_count": 31,
   "id": "203ccce9",
   "metadata": {},
   "outputs": [
    {
     "name": "stdout",
     "output_type": "stream",
     "text": [
      "5.16%\n",
      "54.94%\n"
     ]
    }
   ],
   "source": [
    "X = rng.standard_normal(size=10000)\n",
    "print(f\"{len(X[np.abs(X) > 1.96])/len(X):0.2%}\")\n",
    "print(f\"{np.sum(X[np.abs(X) > 1.96])/np.sum(X):0.2%}\")\n"
   ]
  },
  {
   "cell_type": "code",
   "execution_count": 72,
   "id": "3fa692ad",
   "metadata": {},
   "outputs": [
    {
     "name": "stdout",
     "output_type": "stream",
     "text": [
      "Count_nonzero y: 2\n",
      "Isnan y : [ True False False]\n",
      "[[-1.68285717 -1.05249749 -0.48117157 -0.40996813]\n",
      " [-1.81863474  0.94572763 -0.96525343 -0.65156547]\n",
      " [-0.25351069 -1.78815105  0.97416107 -2.89344505]]\n"
     ]
    },
    {
     "data": {
      "text/plain": [
       "array([False,  True,  True, False])"
      ]
     },
     "execution_count": 72,
     "metadata": {},
     "output_type": "execute_result"
    }
   ],
   "source": [
    "# Assuming rng has been created beforehand\n",
    "x = rng.normal(0, size=(3, 4))\n",
    "y = np.array([np.nan, 0, 1])\n",
    "\n",
    "print(f\"Count_nonzero y: {np.count_nonzero(y)}\")\n",
    "print(f\"Isnan y : {np.isnan(y)}\")\n",
    "print(x)\n",
    "np.any(x>0, axis=0)"
   ]
  },
  {
   "cell_type": "code",
   "execution_count": 73,
   "id": "36ec8d46",
   "metadata": {},
   "outputs": [
    {
     "name": "stdout",
     "output_type": "stream",
     "text": [
      "[[ 0.08563652 -0.02952754 -0.05393867 -0.87813008]\n",
      " [ 1.21920732 -1.1771456  -0.12047059  1.30195638]\n",
      " [ 0.37205295  0.25877186 -1.94933865  0.34460261]]\n",
      "[-0.87595977  1.2235475  -0.97391122]\n",
      "[ 1.67689679 -0.94790128 -2.12374791  0.76842891]\n",
      "-0.6263234940762576\n"
     ]
    }
   ],
   "source": [
    "x = rng.normal(0, size=(3, 4))\n",
    "print(x)\n",
    "\n",
    "print(np.sum(x, axis=1))\n",
    "print(np.sum(x, axis=0))\n",
    "print(np.sum(x))"
   ]
  }
 ],
 "metadata": {
  "kernelspec": {
   "display_name": "Python 3",
   "language": "python",
   "name": "python3"
  },
  "language_info": {
   "codemirror_mode": {
    "name": "ipython",
    "version": 3
   },
   "file_extension": ".py",
   "mimetype": "text/x-python",
   "name": "python",
   "nbconvert_exporter": "python",
   "pygments_lexer": "ipython3",
   "version": "3.13.7"
  }
 },
 "nbformat": 4,
 "nbformat_minor": 5
}
